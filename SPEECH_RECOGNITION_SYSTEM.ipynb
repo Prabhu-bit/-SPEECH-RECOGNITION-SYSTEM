{
  "nbformat": 4,
  "nbformat_minor": 0,
  "metadata": {
    "colab": {
      "provenance": [],
      "gpuType": "V28",
      "authorship_tag": "ABX9TyOVfoGWFPnAFtxoVGSNkb8Y",
      "include_colab_link": true
    },
    "kernelspec": {
      "name": "python3",
      "display_name": "Python 3"
    },
    "language_info": {
      "name": "python"
    },
    "accelerator": "TPU"
  },
  "cells": [
    {
      "cell_type": "markdown",
      "metadata": {
        "id": "view-in-github",
        "colab_type": "text"
      },
      "source": [
        "<a href=\"https://colab.research.google.com/github/Prabhu-bit/-SPEECH-RECOGNITION-SYSTEM/blob/main/SPEECH_RECOGNITION_SYSTEM.ipynb\" target=\"_parent\"><img src=\"https://colab.research.google.com/assets/colab-badge.svg\" alt=\"Open In Colab\"/></a>"
      ]
    },
    {
      "cell_type": "code",
      "execution_count": null,
      "metadata": {
        "colab": {
          "base_uri": "https://localhost:8080/"
        },
        "id": "Frmhv8ufM4xu",
        "outputId": "f6fb2a30-6b3b-45ca-8121-247198892acf"
      },
      "outputs": [
        {
          "output_type": "stream",
          "name": "stdout",
          "text": [
            "\u001b[?25l     \u001b[90m━━━━━━━━━━━━━━━━━━━━━━━━━━━━━━━━━━━━━━━━\u001b[0m \u001b[32m0.0/981.5 kB\u001b[0m \u001b[31m?\u001b[0m eta \u001b[36m-:--:--\u001b[0m\r\u001b[2K     \u001b[91m━━━━━━━━━━━━━━━━━━━━\u001b[0m\u001b[91m╸\u001b[0m\u001b[90m━━━━━━━━━━━━━━━━━\u001b[0m \u001b[32m532.5/981.5 kB\u001b[0m \u001b[31m15.7 MB/s\u001b[0m eta \u001b[36m0:00:01\u001b[0m\r\u001b[2K     \u001b[91m━━━━━━━━━━━━━━━━━━━━━━━━━━━━━━━━━━━━━\u001b[0m\u001b[91m╸\u001b[0m \u001b[32m972.8/981.5 kB\u001b[0m \u001b[31m22.4 MB/s\u001b[0m eta \u001b[36m0:00:01\u001b[0m\r\u001b[2K     \u001b[90m━━━━━━━━━━━━━━━━━━━━━━━━━━━━━━━━━━━━━━\u001b[0m \u001b[32m981.5/981.5 kB\u001b[0m \u001b[31m13.1 MB/s\u001b[0m eta \u001b[36m0:00:00\u001b[0m\n",
            "\u001b[?25h  Installing build dependencies ... \u001b[?25l\u001b[?25hdone\n",
            "  Getting requirements to build wheel ... \u001b[?25l\u001b[?25hdone\n",
            "  Preparing metadata (pyproject.toml) ... \u001b[?25l\u001b[?25hdone\n",
            "\u001b[2K   \u001b[90m━━━━━━━━━━━━━━━━━━━━━━━━━━━━━━━━━━━━━━━━\u001b[0m \u001b[32m32.9/32.9 MB\u001b[0m \u001b[31m48.2 MB/s\u001b[0m eta \u001b[36m0:00:00\u001b[0m\n",
            "\u001b[2K   \u001b[90m━━━━━━━━━━━━━━━━━━━━━━━━━━━━━━━━━━━━━━━━\u001b[0m \u001b[32m491.3/491.3 kB\u001b[0m \u001b[31m30.3 MB/s\u001b[0m eta \u001b[36m0:00:00\u001b[0m\n",
            "\u001b[?25h  Building wheel for langdetect (pyproject.toml) ... \u001b[?25l\u001b[?25hdone\n"
          ]
        }
      ],
      "source": [
        "# Step 1: Install required libraries\n",
        "!pip install -q SpeechRecognition pydub langdetect ffmpeg-python"
      ]
    },
    {
      "cell_type": "code",
      "source": [
        "#  Step 2: Upload multiple audio files\n",
        "from google.colab import files\n",
        "import os\n",
        "\n",
        "uploaded = files.upload()\n",
        "audio_files = list(uploaded.keys())\n"
      ],
      "metadata": {
        "colab": {
          "base_uri": "https://localhost:8080/",
          "height": 489
        },
        "id": "qkVneNnLNI2j",
        "outputId": "df09103c-c08b-4184-e7fb-35de0c3c6f74"
      },
      "execution_count": null,
      "outputs": [
        {
          "output_type": "display_data",
          "data": {
            "text/plain": [
              "<IPython.core.display.HTML object>"
            ],
            "text/html": [
              "\n",
              "     <input type=\"file\" id=\"files-8d81e50a-93b5-4ff9-a44c-cc061562ca50\" name=\"files[]\" multiple disabled\n",
              "        style=\"border:none\" />\n",
              "     <output id=\"result-8d81e50a-93b5-4ff9-a44c-cc061562ca50\">\n",
              "      Upload widget is only available when the cell has been executed in the\n",
              "      current browser session. Please rerun this cell to enable.\n",
              "      </output>\n",
              "      <script>// Copyright 2017 Google LLC\n",
              "//\n",
              "// Licensed under the Apache License, Version 2.0 (the \"License\");\n",
              "// you may not use this file except in compliance with the License.\n",
              "// You may obtain a copy of the License at\n",
              "//\n",
              "//      http://www.apache.org/licenses/LICENSE-2.0\n",
              "//\n",
              "// Unless required by applicable law or agreed to in writing, software\n",
              "// distributed under the License is distributed on an \"AS IS\" BASIS,\n",
              "// WITHOUT WARRANTIES OR CONDITIONS OF ANY KIND, either express or implied.\n",
              "// See the License for the specific language governing permissions and\n",
              "// limitations under the License.\n",
              "\n",
              "/**\n",
              " * @fileoverview Helpers for google.colab Python module.\n",
              " */\n",
              "(function(scope) {\n",
              "function span(text, styleAttributes = {}) {\n",
              "  const element = document.createElement('span');\n",
              "  element.textContent = text;\n",
              "  for (const key of Object.keys(styleAttributes)) {\n",
              "    element.style[key] = styleAttributes[key];\n",
              "  }\n",
              "  return element;\n",
              "}\n",
              "\n",
              "// Max number of bytes which will be uploaded at a time.\n",
              "const MAX_PAYLOAD_SIZE = 100 * 1024;\n",
              "\n",
              "function _uploadFiles(inputId, outputId) {\n",
              "  const steps = uploadFilesStep(inputId, outputId);\n",
              "  const outputElement = document.getElementById(outputId);\n",
              "  // Cache steps on the outputElement to make it available for the next call\n",
              "  // to uploadFilesContinue from Python.\n",
              "  outputElement.steps = steps;\n",
              "\n",
              "  return _uploadFilesContinue(outputId);\n",
              "}\n",
              "\n",
              "// This is roughly an async generator (not supported in the browser yet),\n",
              "// where there are multiple asynchronous steps and the Python side is going\n",
              "// to poll for completion of each step.\n",
              "// This uses a Promise to block the python side on completion of each step,\n",
              "// then passes the result of the previous step as the input to the next step.\n",
              "function _uploadFilesContinue(outputId) {\n",
              "  const outputElement = document.getElementById(outputId);\n",
              "  const steps = outputElement.steps;\n",
              "\n",
              "  const next = steps.next(outputElement.lastPromiseValue);\n",
              "  return Promise.resolve(next.value.promise).then((value) => {\n",
              "    // Cache the last promise value to make it available to the next\n",
              "    // step of the generator.\n",
              "    outputElement.lastPromiseValue = value;\n",
              "    return next.value.response;\n",
              "  });\n",
              "}\n",
              "\n",
              "/**\n",
              " * Generator function which is called between each async step of the upload\n",
              " * process.\n",
              " * @param {string} inputId Element ID of the input file picker element.\n",
              " * @param {string} outputId Element ID of the output display.\n",
              " * @return {!Iterable<!Object>} Iterable of next steps.\n",
              " */\n",
              "function* uploadFilesStep(inputId, outputId) {\n",
              "  const inputElement = document.getElementById(inputId);\n",
              "  inputElement.disabled = false;\n",
              "\n",
              "  const outputElement = document.getElementById(outputId);\n",
              "  outputElement.innerHTML = '';\n",
              "\n",
              "  const pickedPromise = new Promise((resolve) => {\n",
              "    inputElement.addEventListener('change', (e) => {\n",
              "      resolve(e.target.files);\n",
              "    });\n",
              "  });\n",
              "\n",
              "  const cancel = document.createElement('button');\n",
              "  inputElement.parentElement.appendChild(cancel);\n",
              "  cancel.textContent = 'Cancel upload';\n",
              "  const cancelPromise = new Promise((resolve) => {\n",
              "    cancel.onclick = () => {\n",
              "      resolve(null);\n",
              "    };\n",
              "  });\n",
              "\n",
              "  // Wait for the user to pick the files.\n",
              "  const files = yield {\n",
              "    promise: Promise.race([pickedPromise, cancelPromise]),\n",
              "    response: {\n",
              "      action: 'starting',\n",
              "    }\n",
              "  };\n",
              "\n",
              "  cancel.remove();\n",
              "\n",
              "  // Disable the input element since further picks are not allowed.\n",
              "  inputElement.disabled = true;\n",
              "\n",
              "  if (!files) {\n",
              "    return {\n",
              "      response: {\n",
              "        action: 'complete',\n",
              "      }\n",
              "    };\n",
              "  }\n",
              "\n",
              "  for (const file of files) {\n",
              "    const li = document.createElement('li');\n",
              "    li.append(span(file.name, {fontWeight: 'bold'}));\n",
              "    li.append(span(\n",
              "        `(${file.type || 'n/a'}) - ${file.size} bytes, ` +\n",
              "        `last modified: ${\n",
              "            file.lastModifiedDate ? file.lastModifiedDate.toLocaleDateString() :\n",
              "                                    'n/a'} - `));\n",
              "    const percent = span('0% done');\n",
              "    li.appendChild(percent);\n",
              "\n",
              "    outputElement.appendChild(li);\n",
              "\n",
              "    const fileDataPromise = new Promise((resolve) => {\n",
              "      const reader = new FileReader();\n",
              "      reader.onload = (e) => {\n",
              "        resolve(e.target.result);\n",
              "      };\n",
              "      reader.readAsArrayBuffer(file);\n",
              "    });\n",
              "    // Wait for the data to be ready.\n",
              "    let fileData = yield {\n",
              "      promise: fileDataPromise,\n",
              "      response: {\n",
              "        action: 'continue',\n",
              "      }\n",
              "    };\n",
              "\n",
              "    // Use a chunked sending to avoid message size limits. See b/62115660.\n",
              "    let position = 0;\n",
              "    do {\n",
              "      const length = Math.min(fileData.byteLength - position, MAX_PAYLOAD_SIZE);\n",
              "      const chunk = new Uint8Array(fileData, position, length);\n",
              "      position += length;\n",
              "\n",
              "      const base64 = btoa(String.fromCharCode.apply(null, chunk));\n",
              "      yield {\n",
              "        response: {\n",
              "          action: 'append',\n",
              "          file: file.name,\n",
              "          data: base64,\n",
              "        },\n",
              "      };\n",
              "\n",
              "      let percentDone = fileData.byteLength === 0 ?\n",
              "          100 :\n",
              "          Math.round((position / fileData.byteLength) * 100);\n",
              "      percent.textContent = `${percentDone}% done`;\n",
              "\n",
              "    } while (position < fileData.byteLength);\n",
              "  }\n",
              "\n",
              "  // All done.\n",
              "  yield {\n",
              "    response: {\n",
              "      action: 'complete',\n",
              "    }\n",
              "  };\n",
              "}\n",
              "\n",
              "scope.google = scope.google || {};\n",
              "scope.google.colab = scope.google.colab || {};\n",
              "scope.google.colab._files = {\n",
              "  _uploadFiles,\n",
              "  _uploadFilesContinue,\n",
              "};\n",
              "})(self);\n",
              "</script> "
            ]
          },
          "metadata": {}
        },
        {
          "output_type": "stream",
          "name": "stdout",
          "text": [
            "Saving common_voice_en_41910499.mp3 to common_voice_en_41910499.mp3\n",
            "Saving common_voice_en_41910500.mp3 to common_voice_en_41910500.mp3\n",
            "Saving common_voice_en_41910501.mp3 to common_voice_en_41910501.mp3\n",
            "Saving common_voice_en_41910502.mp3 to common_voice_en_41910502.mp3\n",
            "Saving common_voice_en_41910503.mp3 to common_voice_en_41910503.mp3\n",
            "Saving common_voice_en_41910504.mp3 to common_voice_en_41910504.mp3\n",
            "Saving common_voice_en_41910505.mp3 to common_voice_en_41910505.mp3\n",
            "Saving common_voice_en_41910506.mp3 to common_voice_en_41910506.mp3\n",
            "Saving common_voice_en_41910507.mp3 to common_voice_en_41910507.mp3\n",
            "Saving common_voice_en_41910508.mp3 to common_voice_en_41910508.mp3\n",
            "Saving common_voice_en_41910643.mp3 to common_voice_en_41910643.mp3\n",
            "Saving common_voice_en_41910644.mp3 to common_voice_en_41910644.mp3\n",
            "Saving common_voice_en_41910645.mp3 to common_voice_en_41910645.mp3\n"
          ]
        }
      ]
    },
    {
      "cell_type": "code",
      "source": [
        "# Convert to WAV (Mono, 16kHz)\n",
        "from pydub import AudioSegment\n",
        "\n",
        "converted_files = []\n",
        "\n",
        "for file in audio_files:\n",
        "    name, ext = os.path.splitext(file)\n",
        "    ext = ext.lower()\n",
        "\n",
        "    if ext != \".wav\":\n",
        "        audio = AudioSegment.from_file(file)\n",
        "        audio = audio.set_channels(1).set_frame_rate(16000)\n",
        "        converted_name = f\"{name}.wav\"\n",
        "        audio.export(converted_name, format=\"wav\")\n",
        "        converted_files.append(converted_name)\n",
        "    else:\n",
        "        converted_files.append(file)\n"
      ],
      "metadata": {
        "id": "JJVPoXWcNL5z"
      },
      "execution_count": null,
      "outputs": []
    },
    {
      "cell_type": "code",
      "source": [
        "# Transcribe with Auto Language Detection\n",
        "import speech_recognition as sr\n",
        "from langdetect import detect\n",
        "\n",
        "recognizer = sr.Recognizer()\n",
        "transcription_output = \"\"\n",
        "\n",
        "for wav_file in converted_files:\n",
        "    try:\n",
        "        with sr.AudioFile(wav_file) as source:\n",
        "            audio_data = recognizer.record(source)\n",
        "            text = recognizer.recognize_google(audio_data)\n",
        "\n",
        "            # Auto-detect language from transcribed text\n",
        "            detected_lang = detect(text)\n",
        "\n",
        "            print(f\"\\n📁 {wav_file}\")\n",
        "            print(f\"📝 Transcription: {text}\")\n",
        "            print(f\"🌐 Detected Language: {detected_lang}\")\n",
        "\n",
        "            # Append to the final text\n",
        "            transcription_output += f\"File: {wav_file}\\nDetected Language: {detected_lang}\\nTranscription:\\n{text}\\n\\n\"\n",
        "\n",
        "    except sr.UnknownValueError:\n",
        "        print(f\"❌ Could not understand the audio in {wav_file}.\")\n",
        "        transcription_output += f\"File: {wav_file}\\nTranscription Failed: Could not understand audio.\\n\\n\"\n",
        "    except sr.RequestError as e:\n",
        "        print(f\"❌ API error for {wav_file}: {e}\")\n",
        "        transcription_output += f\"File: {wav_file}\\nTranscription Failed: API error - {e}\\n\\n\"\n"
      ],
      "metadata": {
        "colab": {
          "base_uri": "https://localhost:8080/"
        },
        "id": "3G2TZEzwNOpE",
        "outputId": "bee709da-bffb-48cc-8278-4d016a7a7c58"
      },
      "execution_count": null,
      "outputs": [
        {
          "output_type": "stream",
          "name": "stdout",
          "text": [
            "\n",
            "📁 common_voice_en_41910499.wav\n",
            "📝 Transcription: is mother is a casting director\n",
            "🌐 Detected Language: en\n",
            "\n",
            "📁 common_voice_en_41910500.wav\n",
            "📝 Transcription: often Coast Guardsmen would judge Landings by raising placards with large numbers\n",
            "🌐 Detected Language: en\n",
            "\n",
            "📁 common_voice_en_41910501.wav\n",
            "📝 Transcription: each of us would have in two ways affirmed himself and the other person\n",
            "🌐 Detected Language: en\n",
            "\n",
            "📁 common_voice_en_41910502.wav\n",
            "📝 Transcription: in his address Colonel Gere referred to the late Sergeant Alex\n",
            "🌐 Detected Language: en\n",
            "\n",
            "📁 common_voice_en_41910503.wav\n",
            "📝 Transcription: was named Fritz founder Moses Kenny\n",
            "🌐 Detected Language: en\n",
            "\n",
            "📁 common_voice_en_41910504.wav\n",
            "📝 Transcription: also be a lion on the pulpit and a lamb in the Box\n",
            "🌐 Detected Language: en\n",
            "\n",
            "📁 common_voice_en_41910505.wav\n",
            "📝 Transcription: his criticism of Communism is evident to some of these works\n",
            "🌐 Detected Language: en\n",
            "\n",
            "📁 common_voice_en_41910506.wav\n",
            "📝 Transcription: the die adhere to the cloth only where the mordant had been applied\n",
            "🌐 Detected Language: en\n",
            "\n",
            "📁 common_voice_en_41910507.wav\n",
            "📝 Transcription: in Long conduit pipes are holes should be made at convenient distances\n",
            "🌐 Detected Language: en\n",
            "\n",
            "📁 common_voice_en_41910508.wav\n",
            "📝 Transcription: it's species were formerly placed in the genus Vernonia\n",
            "🌐 Detected Language: en\n",
            "\n",
            "📁 common_voice_en_41910643.wav\n",
            "📝 Transcription: he is the brother of the late writer and critic Robert Hughes\n",
            "🌐 Detected Language: en\n",
            "\n",
            "📁 common_voice_en_41910644.wav\n",
            "📝 Transcription: view recreationally suitable beaches exists naturally on the lake\n",
            "🌐 Detected Language: en\n",
            "\n",
            "📁 common_voice_en_41910645.wav\n",
            "📝 Transcription: it is located about west of Richfield\n",
            "🌐 Detected Language: en\n"
          ]
        }
      ]
    },
    {
      "cell_type": "code",
      "source": [
        "# Save Transcriptions to a Text File\n",
        "output_filename = \"transcriptions.txt\"\n",
        "with open(output_filename, \"w\") as f:\n",
        "    f.write(transcription_output)\n",
        "\n",
        "# Offer download link\n",
        "files.download(output_filename)\n"
      ],
      "metadata": {
        "colab": {
          "base_uri": "https://localhost:8080/",
          "height": 17
        },
        "id": "WAR_LKo4NWmG",
        "outputId": "571fc7e9-ca9c-4af9-8db8-2cbca1dcebb2"
      },
      "execution_count": null,
      "outputs": [
        {
          "output_type": "display_data",
          "data": {
            "text/plain": [
              "<IPython.core.display.Javascript object>"
            ],
            "application/javascript": [
              "\n",
              "    async function download(id, filename, size) {\n",
              "      if (!google.colab.kernel.accessAllowed) {\n",
              "        return;\n",
              "      }\n",
              "      const div = document.createElement('div');\n",
              "      const label = document.createElement('label');\n",
              "      label.textContent = `Downloading \"${filename}\": `;\n",
              "      div.appendChild(label);\n",
              "      const progress = document.createElement('progress');\n",
              "      progress.max = size;\n",
              "      div.appendChild(progress);\n",
              "      document.body.appendChild(div);\n",
              "\n",
              "      const buffers = [];\n",
              "      let downloaded = 0;\n",
              "\n",
              "      const channel = await google.colab.kernel.comms.open(id);\n",
              "      // Send a message to notify the kernel that we're ready.\n",
              "      channel.send({})\n",
              "\n",
              "      for await (const message of channel.messages) {\n",
              "        // Send a message to notify the kernel that we're ready.\n",
              "        channel.send({})\n",
              "        if (message.buffers) {\n",
              "          for (const buffer of message.buffers) {\n",
              "            buffers.push(buffer);\n",
              "            downloaded += buffer.byteLength;\n",
              "            progress.value = downloaded;\n",
              "          }\n",
              "        }\n",
              "      }\n",
              "      const blob = new Blob(buffers, {type: 'application/binary'});\n",
              "      const a = document.createElement('a');\n",
              "      a.href = window.URL.createObjectURL(blob);\n",
              "      a.download = filename;\n",
              "      div.appendChild(a);\n",
              "      a.click();\n",
              "      div.remove();\n",
              "    }\n",
              "  "
            ]
          },
          "metadata": {}
        },
        {
          "output_type": "display_data",
          "data": {
            "text/plain": [
              "<IPython.core.display.Javascript object>"
            ],
            "application/javascript": [
              "download(\"download_e6426f15-2f91-4e1f-a54f-29270cb19e36\", \"transcriptions.txt\", 1707)"
            ]
          },
          "metadata": {}
        }
      ]
    },
    {
      "cell_type": "code",
      "source": [
        "# Multilingual Languages\n",
        "\n",
        "text = recognizer.recognize_google(audio_data, language=\"hi-IN\")  # Hindi\n",
        "print(\"Hindi Transcription:\", text)\n",
        "\n",
        "\n",
        "text = recognizer.recognize_google(audio_data, language=\"es-ES\")  # Spanish\n",
        "print(\"Spanish Transcription:\", text)\n",
        "\n",
        "\n",
        "\n",
        "text = recognizer.recognize_google(audio_data, language=\"ta-IN\")  # Tamil\n",
        "print(\"Tamil Transcription:\", text)\n",
        "\n",
        "\n",
        "text = recognizer.recognize_google(audio_data, language=\"en-US\")  # English\n",
        "print(\"English Transcription:\", text)\n",
        "\n",
        "\n"
      ],
      "metadata": {
        "colab": {
          "base_uri": "https://localhost:8080/"
        },
        "id": "OLpJkVXTQ7xg",
        "outputId": "cdbd884c-f34b-4fa2-8098-8f9ea8bd3317"
      },
      "execution_count": null,
      "outputs": [
        {
          "output_type": "stream",
          "name": "stdout",
          "text": [
            "Hindi Transcription: इट इस लोकेटेड अबाउट वेस्टर्न रिचफील्ड\n",
            "Spanish Transcription: eso quiere about westerfield\n",
            "Tamil Transcription: இட்ஸ் ஓகே என்னுடைய\n",
            "English Transcription: it is located about west of Richfield\n"
          ]
        }
      ]
    }
  ]
}